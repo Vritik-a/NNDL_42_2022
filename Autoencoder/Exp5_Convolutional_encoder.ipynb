{
  "nbformat": 4,
  "nbformat_minor": 0,
  "metadata": {
    "colab": {
      "name": "Convolutional_encoder.ipynb",
      "provenance": [],
      "authorship_tag": "ABX9TyOx8ZGZrTw51MgxU1N2AWZy",
      "include_colab_link": true
    },
    "kernelspec": {
      "name": "python3",
      "display_name": "Python 3"
    },
    "language_info": {
      "name": "python"
    }
  },
  "cells": [
    {
      "cell_type": "markdown",
      "metadata": {
        "id": "view-in-github",
        "colab_type": "text"
      },
      "source": [
        "<a href=\"https://colab.research.google.com/github/Vritik-a/NNDL_42_2022/blob/main/Autoencoder/Convolutional_encoder.ipynb\" target=\"_parent\"><img src=\"https://colab.research.google.com/assets/colab-badge.svg\" alt=\"Open In Colab\"/></a>"
      ]
    },
    {
      "cell_type": "code",
      "execution_count": 1,
      "metadata": {
        "id": "0BhbIGI9m10q"
      },
      "outputs": [],
      "source": [
        "import os\n",
        "os.environ[\"TF_CPP_MIN_LOG_LEVEL\"] = \"2\""
      ]
    },
    {
      "cell_type": "code",
      "source": [
        "import numpy as np\n",
        "import matplotlib.pyplot as plt\n",
        "import tensorflow as tf\n",
        "from tensorflow.keras.layers import Input, Dense, Conv2D, Activation, MaxPool2D\n",
        "from tensorflow.keras.layers import BatchNormalization, Flatten, Reshape, Conv2DTranspose, LeakyReLU\n",
        "from tensorflow.keras.models import Model\n",
        "from tensorflow.keras.optimizers import Adam, SGD\n",
        "print(\"\")"
      ],
      "metadata": {
        "colab": {
          "base_uri": "https://localhost:8080/"
        },
        "id": "iz4JTPkTm85m",
        "outputId": "af7205f9-f098-46f5-d6df-4a8ee9bd5de5"
      },
      "execution_count": 2,
      "outputs": [
        {
          "output_type": "stream",
          "name": "stdout",
          "text": [
            "\n"
          ]
        }
      ]
    },
    {
      "cell_type": "code",
      "source": [
        "## Seeding\n",
        "np.random.seed(42)\n",
        "tf.random.set_seed(42)"
      ],
      "metadata": {
        "id": "YWxAO6gtm-3P"
      },
      "execution_count": 3,
      "outputs": []
    },
    {
      "cell_type": "code",
      "source": [
        "## Loading the dataset and then normalizing the images.\n",
        "dataset = tf.keras.datasets.fashion_mnist\n",
        "(x_train, y_train),(x_test, y_test) = dataset.load_data()\n",
        "x_train, x_test = x_train / 255.0, x_test / 255.0"
      ],
      "metadata": {
        "colab": {
          "base_uri": "https://localhost:8080/"
        },
        "id": "bQ1mElYWnDM7",
        "outputId": "082d8f6f-98d7-46e6-e16d-b9152c260d1d"
      },
      "execution_count": 4,
      "outputs": [
        {
          "output_type": "stream",
          "name": "stdout",
          "text": [
            "Downloading data from https://storage.googleapis.com/tensorflow/tf-keras-datasets/train-labels-idx1-ubyte.gz\n",
            "32768/29515 [=================================] - 0s 0us/step\n",
            "40960/29515 [=========================================] - 0s 0us/step\n",
            "Downloading data from https://storage.googleapis.com/tensorflow/tf-keras-datasets/train-images-idx3-ubyte.gz\n",
            "26427392/26421880 [==============================] - 0s 0us/step\n",
            "26435584/26421880 [==============================] - 0s 0us/step\n",
            "Downloading data from https://storage.googleapis.com/tensorflow/tf-keras-datasets/t10k-labels-idx1-ubyte.gz\n",
            "16384/5148 [===============================================================================================] - 0s 0us/step\n",
            "Downloading data from https://storage.googleapis.com/tensorflow/tf-keras-datasets/t10k-images-idx3-ubyte.gz\n",
            "4423680/4422102 [==============================] - 0s 0us/step\n",
            "4431872/4422102 [==============================] - 0s 0us/step\n"
          ]
        }
      ]
    },
    {
      "cell_type": "code",
      "source": [
        "## Hyperparameters\n",
        "H = 28\n",
        "W = 28\n",
        "C = 1"
      ],
      "metadata": {
        "id": "dl2UlqhlnHD2"
      },
      "execution_count": 5,
      "outputs": []
    },
    {
      "cell_type": "code",
      "source": [
        "## Latent space\n",
        "latent_dim = 128"
      ],
      "metadata": {
        "id": "fatFptPfnJ5V"
      },
      "execution_count": 6,
      "outputs": []
    },
    {
      "cell_type": "code",
      "source": [
        "## Building the autoencoder\n",
        "inputs = Input(shape=(H, W, C), name=\"inputs\")\n",
        "x = inputs\n",
        "\n",
        "x = Conv2D(32, (3, 3), padding=\"same\")(x)\n",
        "x = BatchNormalization()(x)\n",
        "x = LeakyReLU(alpha=0.2)(x)\n",
        "x = MaxPool2D((2, 2))(x)\n",
        "\n",
        "x = Conv2D(64, (3, 3), padding=\"same\")(x)\n",
        "x = BatchNormalization()(x)\n",
        "x = LeakyReLU(alpha=0.2)(x)\n",
        "x = MaxPool2D((2, 2))(x)\n",
        "\n",
        "x = Flatten()(x)\n",
        "units = x.shape[1]\n",
        "x = Dense(latent_dim, name=\"latent\")(x)\n",
        "x = Dense(units)(x)\n",
        "x = LeakyReLU(alpha=0.2)(x)\n",
        "x = Reshape((7, 7, 64))(x)\n",
        "\n",
        "x = Conv2DTranspose(64, (3, 3), strides=2, padding=\"same\")(x)\n",
        "x = BatchNormalization()(x)\n",
        "x = LeakyReLU(alpha=0.2)(x)\n",
        "\n",
        "x = Conv2DTranspose(1, (3, 3), strides=2, padding=\"same\")(x)\n",
        "x = BatchNormalization()(x)\n",
        "x = Activation(\"sigmoid\", name=\"outputs\")(x)\n",
        "\n",
        "outputs = x\n",
        "\n",
        "autoencoder = Model(inputs, outputs)\n",
        "autoencoder.compile(optimizer=Adam(1e-3), loss='binary_crossentropy')\n",
        "autoencoder.summary()\n",
        "\n",
        "print(x_train.shape, x_test.shape)\n",
        "\n",
        "autoencoder.fit(\n",
        "    x_train,\n",
        "    x_train,\n",
        "    epochs=20,\n",
        "    batch_size=256,\n",
        "    shuffle=False,\n",
        "    validation_data=(x_test, x_test)\n",
        ")\n",
        "\n",
        "test_pred_y = autoencoder.predict(x_test)\n",
        "\n",
        "n = 10  ## how many digits we will display\n",
        "plt.figure(figsize=(20, 4))\n",
        "for i in range(n):\n",
        "    ## display original\n",
        "    ax = plt.subplot(2, n, i + 1)\n",
        "    ax.set_title(\"Original Image\")\n",
        "    plt.imshow(x_test[i].reshape(H, W))\n",
        "    plt.gray()\n",
        "    ax.get_xaxis().set_visible(False)\n",
        "    ax.get_yaxis().set_visible(False)\n",
        "\n",
        "    ## display reconstruction\n",
        "    ax = plt.subplot(2, n, i + 1 + n)\n",
        "    ax.set_title(\"Predicted Image\")\n",
        "    plt.imshow(test_pred_y[i].reshape(H, W))\n",
        "    plt.gray()\n",
        "    ax.get_xaxis().set_visible(False)\n",
        "    ax.get_yaxis().set_visible(False)"
      ],
      "metadata": {
        "colab": {
          "base_uri": "https://localhost:8080/",
          "height": 1000
        },
        "id": "hwkTuLP2nMpF",
        "outputId": "79998d03-52e6-4cc5-8698-0da587002a17"
      },
      "execution_count": 8,
      "outputs": [
        {
          "output_type": "stream",
          "name": "stdout",
          "text": [
            "Model: \"model_1\"\n",
            "_________________________________________________________________\n",
            " Layer (type)                Output Shape              Param #   \n",
            "=================================================================\n",
            " inputs (InputLayer)         [(None, 28, 28, 1)]       0         \n",
            "                                                                 \n",
            " conv2d_2 (Conv2D)           (None, 28, 28, 32)        320       \n",
            "                                                                 \n",
            " batch_normalization_4 (Batc  (None, 28, 28, 32)       128       \n",
            " hNormalization)                                                 \n",
            "                                                                 \n",
            " leaky_re_lu_4 (LeakyReLU)   (None, 28, 28, 32)        0         \n",
            "                                                                 \n",
            " max_pooling2d_2 (MaxPooling  (None, 14, 14, 32)       0         \n",
            " 2D)                                                             \n",
            "                                                                 \n",
            " conv2d_3 (Conv2D)           (None, 14, 14, 64)        18496     \n",
            "                                                                 \n",
            " batch_normalization_5 (Batc  (None, 14, 14, 64)       256       \n",
            " hNormalization)                                                 \n",
            "                                                                 \n",
            " leaky_re_lu_5 (LeakyReLU)   (None, 14, 14, 64)        0         \n",
            "                                                                 \n",
            " max_pooling2d_3 (MaxPooling  (None, 7, 7, 64)         0         \n",
            " 2D)                                                             \n",
            "                                                                 \n",
            " flatten_1 (Flatten)         (None, 3136)              0         \n",
            "                                                                 \n",
            " latent (Dense)              (None, 128)               401536    \n",
            "                                                                 \n",
            " dense_1 (Dense)             (None, 3136)              404544    \n",
            "                                                                 \n",
            " leaky_re_lu_6 (LeakyReLU)   (None, 3136)              0         \n",
            "                                                                 \n",
            " reshape_1 (Reshape)         (None, 7, 7, 64)          0         \n",
            "                                                                 \n",
            " conv2d_transpose_2 (Conv2DT  (None, 14, 14, 64)       36928     \n",
            " ranspose)                                                       \n",
            "                                                                 \n",
            " batch_normalization_6 (Batc  (None, 14, 14, 64)       256       \n",
            " hNormalization)                                                 \n",
            "                                                                 \n",
            " leaky_re_lu_7 (LeakyReLU)   (None, 14, 14, 64)        0         \n",
            "                                                                 \n",
            " conv2d_transpose_3 (Conv2DT  (None, 28, 28, 1)        577       \n",
            " ranspose)                                                       \n",
            "                                                                 \n",
            " batch_normalization_7 (Batc  (None, 28, 28, 1)        4         \n",
            " hNormalization)                                                 \n",
            "                                                                 \n",
            " outputs (Activation)        (None, 28, 28, 1)         0         \n",
            "                                                                 \n",
            "=================================================================\n",
            "Total params: 863,045\n",
            "Trainable params: 862,723\n",
            "Non-trainable params: 322\n",
            "_________________________________________________________________\n",
            "(60000, 28, 28) (10000, 28, 28)\n",
            "Epoch 1/20\n",
            "235/235 [==============================] - 134s 566ms/step - loss: 0.4617 - val_loss: 0.5083\n",
            "Epoch 2/20\n",
            "235/235 [==============================] - 133s 567ms/step - loss: 0.3893 - val_loss: 0.3861\n",
            "Epoch 3/20\n",
            "235/235 [==============================] - 133s 565ms/step - loss: 0.3516 - val_loss: 0.3461\n",
            "Epoch 4/20\n",
            "235/235 [==============================] - 132s 562ms/step - loss: 0.3270 - val_loss: 0.3219\n",
            "Epoch 5/20\n",
            "235/235 [==============================] - 132s 562ms/step - loss: 0.3101 - val_loss: 0.3091\n",
            "Epoch 6/20\n",
            "235/235 [==============================] - 132s 563ms/step - loss: 0.2980 - val_loss: 0.2972\n",
            "Epoch 7/20\n",
            "235/235 [==============================] - 133s 565ms/step - loss: 0.2891 - val_loss: 0.2904\n",
            "Epoch 8/20\n",
            "235/235 [==============================] - 132s 563ms/step - loss: 0.2823 - val_loss: 0.2825\n",
            "Epoch 9/20\n",
            "235/235 [==============================] - 133s 565ms/step - loss: 0.2770 - val_loss: 0.2772\n",
            "Epoch 10/20\n",
            "235/235 [==============================] - 133s 565ms/step - loss: 0.2729 - val_loss: 0.2732\n",
            "Epoch 11/20\n",
            "235/235 [==============================] - 134s 570ms/step - loss: 0.2695 - val_loss: 0.2702\n",
            "Epoch 12/20\n",
            "235/235 [==============================] - 134s 572ms/step - loss: 0.2668 - val_loss: 0.2694\n",
            "Epoch 13/20\n",
            "235/235 [==============================] - 133s 565ms/step - loss: 0.2646 - val_loss: 0.2664\n",
            "Epoch 14/20\n",
            "235/235 [==============================] - 133s 567ms/step - loss: 0.2628 - val_loss: 0.2653\n",
            "Epoch 15/20\n",
            "235/235 [==============================] - 133s 565ms/step - loss: 0.2612 - val_loss: 0.2635\n",
            "Epoch 16/20\n",
            "235/235 [==============================] - 134s 569ms/step - loss: 0.2600 - val_loss: 0.2620\n",
            "Epoch 17/20\n",
            "235/235 [==============================] - 134s 568ms/step - loss: 0.2589 - val_loss: 0.2613\n",
            "Epoch 18/20\n",
            "235/235 [==============================] - 135s 573ms/step - loss: 0.2580 - val_loss: 0.2600\n",
            "Epoch 19/20\n",
            "235/235 [==============================] - 133s 568ms/step - loss: 0.2572 - val_loss: 0.2595\n",
            "Epoch 20/20\n",
            "235/235 [==============================] - 135s 573ms/step - loss: 0.2565 - val_loss: 0.2587\n"
          ]
        },
        {
          "output_type": "display_data",
          "data": {
            "text/plain": [
              "<Figure size 1440x288 with 20 Axes>"
            ],
            "image/png": "[encoded data removed]"
          },
          "metadata": {
            "needs_background": "light"
          }
        }
      ]
    }
  ]
}
